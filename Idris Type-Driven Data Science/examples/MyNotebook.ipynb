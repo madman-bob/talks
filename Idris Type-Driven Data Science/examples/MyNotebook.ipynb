{
 "cells": [
  {
   "cell_type": "code",
   "execution_count": 1,
   "id": "222b6704",
   "metadata": {
    "scrolled": true
   },
   "outputs": [
    {
     "name": "stdout",
     "output_type": "stream",
     "text": [
      "Imported module B2T2\r\n",
      "Imported module MyModule\r\n"
     ]
    }
   ],
   "source": [
    ":module B2T2\n",
    ":module MyModule"
   ]
  },
  {
   "cell_type": "markdown",
   "id": "b9d5dcc1",
   "metadata": {},
   "source": [
    "# Basic Tables"
   ]
  },
  {
   "cell_type": "code",
   "execution_count": 2,
   "id": "6df956f7",
   "metadata": {},
   "outputs": [
    {
     "name": "stdout",
     "output_type": "stream",
     "text": [
      "\u001b[38;5;9m\"\r\n",
      "| name    | age | favorite color |\r\n",
      "| ------- | --- | -------------- |\r\n",
      "| \"Bob\"   | 12  | \"blue\"         |\r\n",
      "| \"Alice\" | 17  | \"green\"        |\r\n",
      "| \"Eve\"   | 13  | \"red\"          |\"\u001b[0m\r\n"
     ]
    }
   ],
   "source": [
    "show students"
   ]
  },
  {
   "cell_type": "code",
   "execution_count": 3,
   "id": "313bef78",
   "metadata": {},
   "outputs": [
    {
     "name": "stdout",
     "output_type": "stream",
     "text": [
      "\u001b[38;5;15m\u001b[0m\u001b[38;5;10mB2T2.ExampleTables.students\u001b[0m : \u001b[38;5;12mTable\u001b[0m [<(\u001b[38;5;9m\"name\"\u001b[0m \u001b[38;5;9m:!\u001b[0m \u001b[38;5;12mString\u001b[0m),\r\n",
      "                                      (\u001b[38;5;9m\"age\"\u001b[0m \u001b[38;5;9m:!\u001b[0m \u001b[38;5;12mNat\u001b[0m),\r\n",
      "                                      (\u001b[38;5;9m\"favorite color\"\u001b[0m \u001b[38;5;9m:!\u001b[0m \u001b[38;5;12mString\u001b[0m)]\r\n"
     ]
    }
   ],
   "source": [
    ":t students"
   ]
  },
  {
   "cell_type": "code",
   "execution_count": 4,
   "id": "026dcaae",
   "metadata": {},
   "outputs": [
    {
     "name": "stdout",
     "output_type": "stream",
     "text": [
      "[<[<\u001b[38;5;9m\"Bob\"\u001b[0m, \u001b[38;5;9m12\u001b[0m, \u001b[38;5;9m\"blue\"\u001b[0m], [<\u001b[38;5;9m\"Alice\"\u001b[0m, \u001b[38;5;9m17\u001b[0m, \u001b[38;5;9m\"green\"\u001b[0m], [<\u001b[38;5;9m\"Eve\"\u001b[0m, \u001b[38;5;9m13\u001b[0m, \u001b[38;5;9m\"red\"\u001b[0m]]\r\n"
     ]
    }
   ],
   "source": [
    "students"
   ]
  },
  {
   "cell_type": "markdown",
   "id": "9d096576",
   "metadata": {},
   "source": [
    "We can refer to fields either by name, or by index"
   ]
  },
  {
   "cell_type": "code",
   "execution_count": 5,
   "id": "17314085",
   "metadata": {},
   "outputs": [
    {
     "name": "stdout",
     "output_type": "stream",
     "text": [
      "\u001b[38;5;15m\u001b[0m\u001b[38;5;10mData.Table.Column.column\u001b[0m : \u001b[38;5;12mField\u001b[0m \u001b[3mschema\u001b[0m \u001b[3mname\u001b[0m \u001b[3mtype\u001b[0m -> \u001b[38;5;12mTable\u001b[0m \u001b[3mschema\u001b[0m -> \u001b[38;5;12mSnocList\u001b[0m \u001b[3mtype\u001b[0m\r\n"
     ]
    }
   ],
   "source": [
    ":t Column.column"
   ]
  },
  {
   "cell_type": "code",
   "execution_count": 6,
   "id": "8bd47732",
   "metadata": {},
   "outputs": [
    {
     "name": "stdout",
     "output_type": "stream",
     "text": [
      "[<\u001b[38;5;9m\"Bob\"\u001b[0m, \u001b[38;5;9m\"Alice\"\u001b[0m, \u001b[38;5;9m\"Eve\"\u001b[0m]\r\n"
     ]
    }
   ],
   "source": [
    "column \"name\" students"
   ]
  },
  {
   "cell_type": "code",
   "execution_count": 7,
   "id": "e72236fe",
   "metadata": {},
   "outputs": [
    {
     "name": "stdout",
     "output_type": "stream",
     "text": [
      "[<\u001b[38;5;9m\"blue\"\u001b[0m, \u001b[38;5;9m\"green\"\u001b[0m, \u001b[38;5;9m\"red\"\u001b[0m]\r\n"
     ]
    }
   ],
   "source": [
    "column 2 students"
   ]
  },
  {
   "cell_type": "code",
   "execution_count": 8,
   "id": "fefb3caf",
   "metadata": {},
   "outputs": [
    {
     "name": "stdout",
     "output_type": "stream",
     "text": [
      "\u001b[38;5;9;1mError:\u001b[0m \u001b[1mCan't find an implementation for \u001b[38;5;5;1m\u001b[38;5;12;38;5;5;1mField\u001b[0;38;5;5;1m [<(\u001b[38;5;9;38;5;5;1m\"name\"\u001b[0;38;5;5;1m \u001b[38;5;9;38;5;5;1m:!\u001b[0;38;5;5;1m \u001b[38;5;12;38;5;5;1mString\u001b[0;38;5;5;1m),\r\n",
      "                                                (\u001b[38;5;9;38;5;5;1m\"age\"\u001b[0;38;5;5;1m \u001b[38;5;9;38;5;5;1m:!\u001b[0;38;5;5;1m \u001b[38;5;12;38;5;5;1mNat\u001b[0;38;5;5;1m),\r\n",
      "                                                (\u001b[38;5;9;38;5;5;1m\"favorite color\"\u001b[0;38;5;5;1m \u001b[38;5;9;38;5;5;1m:!\u001b[0;38;5;5;1m \u001b[38;5;12;38;5;5;1mString\u001b[0;38;5;5;1m)] \u001b[38;5;9;38;5;5;1m\"grade\"\u001b[0;38;5;5;1m \u001b[38;5;10;38;5;5;1m?type\u001b[0;38;5;5;1m\u001b[0;1m.\u001b[0m\r\n",
      "\r\n",
      "\u001b[38;5;12m(Interactive):1:8--1:15\u001b[0m\r\n",
      " \u001b[38;5;12m1 |\u001b[0m column \"grade\" students\r\n",
      "            \u001b[38;5;9;1m^^^^^^^\u001b[0m\r\n",
      "\r\n"
     ]
    }
   ],
   "source": [
    "column \"grade\" students"
   ]
  },
  {
   "cell_type": "markdown",
   "id": "f176638b",
   "metadata": {},
   "source": [
    "# Field Constraints\n",
    "\n",
    "We can constrain our column types"
   ]
  },
  {
   "cell_type": "code",
   "execution_count": 9,
   "id": "4201ba45",
   "metadata": {
    "scrolled": true
   },
   "outputs": [
    {
     "name": "stdout",
     "output_type": "stream",
     "text": [
      "\u001b[38;5;15m\u001b[0m\u001b[38;5;10mB2T2.ExamplePrograms.DotProduct.dot\u001b[0m : \u001b[38;5;12mNum\u001b[0m \u001b[3ma\u001b[0m \u001b[38;5;15m=>\u001b[0m\r\n",
      "\u001b[38;5;12mField\u001b[0m \u001b[3mschema\u001b[0m \u001b[3mc1\u001b[0m \u001b[3ma\u001b[0m -> \u001b[38;5;12mField\u001b[0m \u001b[3mschema\u001b[0m \u001b[3mc2\u001b[0m \u001b[3ma\u001b[0m -> \u001b[38;5;12mTable\u001b[0m \u001b[3mschema\u001b[0m -> \u001b[3ma\u001b[0m\r\n",
      "\u001b[38;5;10mdot\u001b[0m \u001b[3mf1\u001b[0m \u001b[3mf2\u001b[0m [<] \u001b[38;5;15m=\u001b[0m \u001b[38;5;9m0\u001b[0m\r\n",
      "\u001b[38;5;10mdot\u001b[0m \u001b[3mf1\u001b[0m \u001b[3mf2\u001b[0m (\u001b[3mtbl\u001b[0m \u001b[38;5;9m:<\u001b[0m \u001b[3mrec\u001b[0m) \u001b[38;5;15m=\u001b[0m \u001b[38;5;10mdot\u001b[0m \u001b[3mf1\u001b[0m \u001b[3mf2\u001b[0m \u001b[3mtbl\u001b[0m \u001b[38;5;10m+\u001b[0m (\u001b[38;5;10mvalue\u001b[0m \u001b[3mf1\u001b[0m \u001b[3mrec\u001b[0m \u001b[38;5;10m*\u001b[0m \u001b[38;5;10mvalue\u001b[0m \u001b[3mf2\u001b[0m \u001b[3mrec\u001b[0m)\r\n"
     ]
    }
   ],
   "source": [
    ":printdef dot"
   ]
  },
  {
   "cell_type": "code",
   "execution_count": 10,
   "id": "7c766e19",
   "metadata": {},
   "outputs": [
    {
     "name": "stdout",
     "output_type": "stream",
     "text": [
      "\u001b[38;5;9m\"\r\n",
      "| name    | age | quiz1 | quiz2 | midterm | quiz3 | quiz4 | final |\r\n",
      "| ------- | --- | ----- | ----- | ------- | ----- | ----- | ----- |\r\n",
      "| \"Bob\"   | 12  | 8     | 9     | 77      | 7     | 9     | 87    |\r\n",
      "| \"Alice\" | 17  | 6     | 8     | 88      | 8     | 7     | 85    |\r\n",
      "| \"Eve\"   | 13  | 7     | 9     | 84      | 8     | 8     | 77    |\"\u001b[0m\r\n"
     ]
    }
   ],
   "source": [
    "show gradebook"
   ]
  },
  {
   "cell_type": "code",
   "execution_count": 11,
   "id": "77ec3a6c",
   "metadata": {},
   "outputs": [
    {
     "name": "stdout",
     "output_type": "stream",
     "text": [
      "\u001b[38;5;9m183\u001b[0m\r\n"
     ]
    }
   ],
   "source": [
    "dot \"quiz1\" \"quiz2\" gradebook"
   ]
  },
  {
   "cell_type": "markdown",
   "id": "75a50362",
   "metadata": {},
   "source": [
    "# Whole-Schema Constraints\n",
    "\n",
    "We can add aditional constraints to the whole schema\n",
    "\n",
    "eg. The `AllColumns schema a` type is a proof type for all columns of the `schema` having type `a`\n",
    "\n",
    "This constraint allows us to iterate over the columns of a table in a type-safe way."
   ]
  },
  {
   "cell_type": "code",
   "execution_count": 12,
   "id": "358afc18",
   "metadata": {},
   "outputs": [
    {
     "name": "stdout",
     "output_type": "stream",
     "text": [
      "\u001b[38;5;15m\u001b[0m\u001b[38;5;10mB2T2.ExamplePrograms.PHacking.pHacking\u001b[0m : {\u001b[38;5;15mauto\u001b[0m \u001b[38;5;15m0 \u001b[0m\u001b[3m_\u001b[0m : \u001b[38;5;10mAllColumns\u001b[0m \u001b[3mschema\u001b[0m \u001b[38;5;12mBool\u001b[0m} ->\r\n",
      "\u001b[38;5;12mField\u001b[0m \u001b[3mschema\u001b[0m \u001b[3mbaseCol\u001b[0m \u001b[38;5;12mBool\u001b[0m -> \u001b[38;5;12mTable\u001b[0m \u001b[3mschema\u001b[0m -> \u001b[38;5;12mIO\u001b[0m ()\r\n"
     ]
    }
   ],
   "source": [
    ":t pHacking"
   ]
  },
  {
   "cell_type": "code",
   "execution_count": 13,
   "id": "6b8c3535",
   "metadata": {},
   "outputs": [
    {
     "name": "stdout",
     "output_type": "stream",
     "text": []
    }
   ],
   "source": [
    ":t jellyAnon"
   ]
  },
  {
   "cell_type": "code",
   "execution_count": 14,
   "id": "e6f56235",
   "metadata": {},
   "outputs": [
    {
     "name": "stdout",
     "output_type": "stream",
     "text": [
      "We found no link between red jelly beans and acne (p > 0.05)\r\n",
      "We found no link between black jelly beans and acne (p > 0.05)\r\n",
      "We found no link between white jelly beans and acne (p > 0.05)\r\n",
      "We found no link between green jelly beans and acne (p > 0.05)\r\n",
      "We found no link between yellow jelly beans and acne (p > 0.05)\r\n",
      "We found no link between brown jelly beans and acne (p > 0.05)\r\n",
      "We found a link between orange jelly beans and acne (p < 0.05)\r\n",
      "We found no link between pink jelly beans and acne (p > 0.05)\r\n",
      "We found no link between purple jelly beans and acne (p > 0.05)\r\n"
     ]
    }
   ],
   "source": [
    ":exec pHacking \"get acne\" jellyAnon"
   ]
  },
  {
   "cell_type": "code",
   "execution_count": 15,
   "id": "8b48dbf5",
   "metadata": {},
   "outputs": [
    {
     "data": {
      "application/javascript": [
       "const spec = {\"$schema\": \"https://vega.github.io/schema/vega-lite/v5.json\", \"data\": {\"values\": [{\"Jelly bean\": \"red\", \"Acne p value\": 0.5}, {\"Jelly bean\": \"black\", \"Acne p value\": 0.41666666666666663}, {\"Jelly bean\": \"white\", \"Acne p value\": 1.0}, {\"Jelly bean\": \"green\", \"Acne p value\": 0.41666666666666663}, {\"Jelly bean\": \"yellow\", \"Acne p value\": 0.23809523809523808}, {\"Jelly bean\": \"brown\", \"Acne p value\": 0.5555555555555555}, {\"Jelly bean\": \"orange\", \"Acne p value\": 0.023809523809523808}, {\"Jelly bean\": \"pink\", \"Acne p value\": 0.0992063492063492}, {\"Jelly bean\": \"purple\", \"Acne p value\": 1.0}]}, \"encoding\": {\"x\": {\"field\": \"Jelly bean\", \"type\": \"nominal\"}, \"y\": {\"field\": \"Acne p value\", \"type\": \"quantitative\"}}, \"mark\": \"bar\"};\n",
       "const opt = {};\n",
       "const type = \"vega-lite\";\n",
       "const id = \"2629608d-b445-462f-96ad-c4444512539f\";\n",
       "\n",
       "const output_area = this;\n",
       "\n",
       "require([\"nbextensions/jupyter-vega/index\"], function(vega) {\n",
       "  const target = document.createElement(\"div\");\n",
       "  target.id = id;\n",
       "  target.className = \"vega-embed\";\n",
       "\n",
       "  const style = document.createElement(\"style\");\n",
       "  style.textContent = [\n",
       "    \".vega-embed .error p {\",\n",
       "    \"  color: firebrick;\",\n",
       "    \"  font-size: 14px;\",\n",
       "    \"}\",\n",
       "  ].join(\"\\\\n\");\n",
       "\n",
       "  // element is a jQuery wrapped DOM element inside the output area\n",
       "  // see http://ipython.readthedocs.io/en/stable/api/generated/\\\n",
       "  // IPython.display.html#IPython.display.Javascript.__init__\n",
       "  element[0].appendChild(target);\n",
       "  element[0].appendChild(style);\n",
       "\n",
       "  vega.render(\"#\" + id, spec, type, opt, output_area);\n",
       "}, function (err) {\n",
       "  if (err.requireType !== \"scripterror\") {\n",
       "    throw(err);\n",
       "  }\n",
       "});\n"
      ]
     },
     "metadata": {
      "jupyter-vega": "#2629608d-b445-462f-96ad-c4444512539f"
     },
     "output_type": "display_data"
    },
    {
     "data": {
      "image/png": "[encoded data removed]"
     },
     "metadata": {
      "jupyter-vega": "#2629608d-b445-462f-96ad-c4444512539f"
     },
     "output_type": "display_data"
    }
   ],
   "source": [
    ":exec display $ pHackingBar \"get acne\" jellyAnon"
   ]
  },
  {
   "cell_type": "markdown",
   "id": "93e5739a",
   "metadata": {},
   "source": [
    "For a slightly more complicated example, the table `jellyNamed` additionally has the \"name\" field, of type `String`.\n",
    "\n",
    "So `jellyNamed` does not have all columns of type `Bool`, but it does once we drop the column \"name\".\n",
    "\n",
    "Our typing-system can cope with this."
   ]
  },
  {
   "cell_type": "code",
   "execution_count": 16,
   "id": "a4707da6",
   "metadata": {},
   "outputs": [
    {
     "name": "stdout",
     "output_type": "stream",
     "text": [
      "[<\u001b[38;5;9m\"Emily\"\u001b[0m,\r\n",
      "  \u001b[38;5;9m\"Jacob\"\u001b[0m,\r\n",
      "  \u001b[38;5;9m\"Emma\"\u001b[0m,\r\n",
      "  \u001b[38;5;9m\"Aidan\"\u001b[0m,\r\n",
      "  \u001b[38;5;9m\"Madison\"\u001b[0m,\r\n",
      "  \u001b[38;5;9m\"Ethan\"\u001b[0m,\r\n",
      "  \u001b[38;5;9m\"Hannah\"\u001b[0m,\r\n",
      "  \u001b[38;5;9m\"Matthew\"\u001b[0m,\r\n",
      "  \u001b[38;5;9m\"Hailey\"\u001b[0m,\r\n",
      "  \u001b[38;5;9m\"Nicholas\"\u001b[0m]\r\n"
     ]
    }
   ],
   "source": [
    "column \"name\" jellyNamed"
   ]
  },
  {
   "cell_type": "code",
   "execution_count": 17,
   "id": "96730785",
   "metadata": {},
   "outputs": [
    {
     "name": "stdout",
     "output_type": "stream",
     "text": [
      "We found no link between red jelly beans and acne (p > 0.05)\r\n",
      "We found no link between black jelly beans and acne (p > 0.05)\r\n",
      "We found no link between white jelly beans and acne (p > 0.05)\r\n",
      "We found no link between green jelly beans and acne (p > 0.05)\r\n",
      "We found no link between yellow jelly beans and acne (p > 0.05)\r\n",
      "We found no link between brown jelly beans and acne (p > 0.05)\r\n",
      "We found a link between orange jelly beans and acne (p < 0.05)\r\n",
      "We found no link between pink jelly beans and acne (p > 0.05)\r\n",
      "We found no link between purple jelly beans and acne (p > 0.05)\r\n"
     ]
    }
   ],
   "source": [
    ":exec pHacking \"get acne\" $ dropColumn \"name\" jellyNamed"
   ]
  },
  {
   "cell_type": "markdown",
   "id": "26c03474",
   "metadata": {},
   "source": [
    "# Custom Schema Constraints\n",
    "\n",
    "The `GradebookSchema schema a` proof type proves that all columns in the `schema` whose name starts with \"quiz\" are of type `a`.\n",
    "\n",
    "`quizAverage` takes the average of all \"quiz\" columns."
   ]
  },
  {
   "cell_type": "code",
   "execution_count": 18,
   "id": "41f1a543",
   "metadata": {},
   "outputs": [
    {
     "name": "stdout",
     "output_type": "stream",
     "text": [
      "\u001b[38;5;15m\u001b[0m\u001b[38;5;10mB2T2.ExamplePrograms.QuizScoreFilter.quizAverage\u001b[0m : \u001b[38;5;10mGradebookSchema\u001b[0m \u001b[3mschema\u001b[0m \u001b[38;5;12mNat\u001b[0m \u001b[38;5;15m=>\u001b[0m\r\n",
      "\u001b[38;5;12mRecord\u001b[0m \u001b[3mschema\u001b[0m -> \u001b[38;5;12mDouble\u001b[0m\r\n"
     ]
    }
   ],
   "source": [
    ":t QuizScoreFilter.quizAverage"
   ]
  },
  {
   "cell_type": "code",
   "execution_count": 19,
   "id": "d7ee6720",
   "metadata": {},
   "outputs": [
    {
     "name": "stdout",
     "output_type": "stream",
     "text": [
      "\u001b[38;5;15m\u001b[0m\u001b[38;5;10mB2T2.ExamplePrograms.QuizScoreFilter.GradebookSchema\u001b[0m : \u001b[38;5;12mSchema\u001b[0m -> \u001b[38;5;12mType\u001b[0m -> \u001b[38;5;12mType\u001b[0m\r\n",
      "\u001b[38;5;10mGradebookSchema\u001b[0m \u001b[3mschema\u001b[0m \u001b[3ma\u001b[0m \u001b[38;5;15m=\u001b[0m \u001b[38;5;12mAll\u001b[0m (\\\u001b[38;5;15m\u001b[0m\u001b[3m{arg:0}\u001b[0m \u001b[38;5;15m=>\u001b[0m \u001b[38;5;12mGradebookColumn\u001b[0m \u001b[3marg\u001b[0m \u001b[3ma\u001b[0m) \u001b[3mschema\u001b[0m\r\n"
     ]
    }
   ],
   "source": [
    ":printdef GradebookSchema"
   ]
  },
  {
   "cell_type": "code",
   "execution_count": 20,
   "id": "241d3bb7",
   "metadata": {
    "scrolled": false
   },
   "outputs": [
    {
     "name": "stdout",
     "output_type": "stream",
     "text": [
      "\u001b[m\u001b[38;5;15m\u001b[0m\u001b[38;5;15mdata\u001b[0m \u001b[38;5;12mB2T2.ExamplePrograms.QuizScoreFilter.GradebookColumn\u001b[0m : \u001b[38;5;12mFieldSchema\u001b[0m -> \u001b[38;5;12mType\u001b[0m -> \u001b[38;5;12mType\u001b[0m\u001b[0m\r\n",
      "\u001b[m  \u001b[4mTotality\u001b[0m: total\r\n",
      "  \u001b[4mConstructors\u001b[0m:\r\n",
      "  \u001b[m  \u001b[m\u001b[38;5;9mQuizCol\u001b[0m : \u001b[38;5;12mSo\u001b[0m (\u001b[38;5;10misPrefixOf\u001b[0m \u001b[38;5;9m\"quiz\"\u001b[0m \u001b[3mname\u001b[0m) -> \u001b[38;5;12mGradebookColumn\u001b[0m (\u001b[3mname\u001b[0m \u001b[38;5;9m:!\u001b[0m \u001b[3ma\u001b[0m) \u001b[3ma\u001b[0m\u001b[0m\r\n",
      "    \u001b[m\u001b[38;5;9mNoQuizCol\u001b[0m : \u001b[38;5;12mSo\u001b[0m (\u001b[38;5;10mnot\u001b[0m (\u001b[38;5;10misPrefixOf\u001b[0m \u001b[38;5;9m\"quiz\"\u001b[0m \u001b[3mname\u001b[0m)) -> \u001b[38;5;12mGradebookColumn\u001b[0m (\u001b[3mname\u001b[0m \u001b[38;5;9m:!\u001b[0m \u001b[3mtype\u001b[0m) \u001b[3ma\u001b[0m\u001b[0m\u001b[0m\u001b[0m\r\n"
     ]
    }
   ],
   "source": [
    ":doc GradebookColumn"
   ]
  }
 ],
 "metadata": {
  "kernelspec": {
   "display_name": "Idris 2",
   "language": "idris2",
   "name": "idris2jupyter"
  },
  "language_info": {
   "file_extension": ".idr",
   "mimetype": "text/x-idris",
   "name": "idris2"
  }
 },
 "nbformat": 4,
 "nbformat_minor": 5
}
