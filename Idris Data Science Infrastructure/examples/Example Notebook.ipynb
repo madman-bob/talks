{
 "cells": [
  {
   "cell_type": "code",
   "execution_count": 1,
   "id": "3cd6f4d8",
   "metadata": {},
   "outputs": [
    {
     "name": "stdout",
     "output_type": "stream",
     "text": [
      "\u001b[38;5;9m2\u001b[0m\r\n"
     ]
    }
   ],
   "source": [
    "1 + 1"
   ]
  },
  {
   "cell_type": "code",
   "execution_count": 2,
   "id": "a66a8a20",
   "metadata": {},
   "outputs": [
    {
     "name": "stdout",
     "output_type": "stream",
     "text": [
      "\u001b[38;5;9m4\u001b[0m\r\n"
     ]
    }
   ],
   "source": [
    ":let double : Nat -> Nat\n",
    ":let double x = x + x\n",
    "\n",
    "double 2"
   ]
  },
  {
   "cell_type": "code",
   "execution_count": 3,
   "id": "5abe871a",
   "metadata": {},
   "outputs": [
    {
     "name": "stdout",
     "output_type": "stream",
     "text": [
      "\u001b[m\u001b[38;5;15mdata\u001b[0m \u001b[38;5;12mPrelude.SnocList\u001b[0m : \u001b[38;5;12mType\u001b[0m -> \u001b[38;5;12mType\u001b[0m\u001b[0m\r\n",
      "\u001b[m\u001b[m  Snoc lists.\u001b[0m\r\n",
      "  \u001b[4mTotality\u001b[0m: total\r\n",
      "  \u001b[4mConstructors\u001b[0m:\r\n",
      "  \u001b[m  \u001b[m\u001b[38;5;9mLin\u001b[0m : \u001b[38;5;12mSnocList\u001b[0m \u001b[3ma\u001b[0m\u001b[0m\r\n",
      "    \u001b[m\u001b[m  Empty snoc-list\u001b[0m\u001b[0m\r\n",
      "    \u001b[m\u001b[38;5;9m(:<)\u001b[0m : \u001b[38;5;12mSnocList\u001b[0m \u001b[3ma\u001b[0m -> \u001b[3ma\u001b[0m -> \u001b[38;5;12mSnocList\u001b[0m \u001b[3ma\u001b[0m\u001b[0m\r\n",
      "    \u001b[m\u001b[m  A non-empty snoc-list, consisting of the rest of the snoc-list and the\r\n",
      "      final element.\u001b[0m\u001b[0m\u001b[0m\u001b[0m\r\n"
     ]
    }
   ],
   "source": [
    ":doc SnocList"
   ]
  },
  {
   "cell_type": "code",
   "execution_count": 4,
   "id": "c48e6909",
   "metadata": {},
   "outputs": [
    {
     "name": "stdout",
     "output_type": "stream",
     "text": [
      "Imported module Data.SnocList\r\n",
      "\u001b[m\u001b[38;5;10mData.SnocList.<><\u001b[0m : \u001b[38;5;12mSnocList\u001b[0m \u001b[3ma\u001b[0m -> \u001b[38;5;12mList\u001b[0m \u001b[3ma\u001b[0m -> \u001b[38;5;12mSnocList\u001b[0m \u001b[3ma\u001b[0m\u001b[0m\r\n",
      "\u001b[m\u001b[m  'fish': Action of lists on snoc-lists\u001b[0m\r\n",
      "  \u001b[4mTotality\u001b[0m: total\r\n",
      "  \u001b[4mFixity Declaration\u001b[0m: infixl operator, level 7\u001b[0m\r\n"
     ]
    }
   ],
   "source": [
    ":module Data.SnocList\n",
    "\n",
    ":doc (<><)"
   ]
  },
  {
   "cell_type": "code",
   "execution_count": 5,
   "id": "216692bc",
   "metadata": {},
   "outputs": [
    {
     "name": "stdout",
     "output_type": "stream",
     "text": [
      "Imported module MyModule\r\n",
      "\u001b[38;5;10mMyModule.parseSomeData\u001b[0m : \u001b[38;5;12mHasIO\u001b[0m \u001b[3mio\u001b[0m => \u001b[38;5;12mString\u001b[0m -> \u001b[3mio\u001b[0m (\u001b[38;5;12mMaybe\u001b[0m (\u001b[38;5;12mList\u001b[0m (\u001b[38;5;12mString\u001b[0m,\r\n",
      "\u001b[38;5;12mDouble\u001b[0m)))\r\n"
     ]
    }
   ],
   "source": [
    ":module MyModule\n",
    "\n",
    ":t parseSomeData"
   ]
  },
  {
   "cell_type": "code",
   "execution_count": 6,
   "id": "f491c2e3",
   "metadata": {},
   "outputs": [
    {
     "name": "stdout",
     "output_type": "stream",
     "text": []
    }
   ],
   "source": [
    ":let someData : IO (Maybe $ List (String, Double))\n",
    ":let someData = parseSomeData \"Some Data.ods\""
   ]
  },
  {
   "cell_type": "code",
   "execution_count": 7,
   "id": "3efaf238",
   "metadata": {},
   "outputs": [
    {
     "name": "stdout",
     "output_type": "stream",
     "text": [
      "\u001b[38;5;10mMyModule.myBarChart\u001b[0m : \u001b[38;5;12mString\u001b[0m -> \u001b[38;5;12mVect\u001b[0m \u001b[3mn\u001b[0m \u001b[38;5;12mString\u001b[0m -> \u001b[38;5;12mVect\u001b[0m \u001b[3mn\u001b[0m \u001b[38;5;12mDouble\u001b[0m -> \u001b[38;5;10mVegaLite\u001b[0m\r\n"
     ]
    }
   ],
   "source": [
    ":t myBarChart"
   ]
  },
  {
   "cell_type": "code",
   "execution_count": 8,
   "id": "ed9ec075",
   "metadata": {},
   "outputs": [
    {
     "name": "stdout",
     "output_type": "stream",
     "text": []
    }
   ],
   "source": [
    ":let displaySomeData : IO ()\n",
    ":let displaySomeData = someData >>= flip whenJust \\vals => let (names, xs) = transpose vals in display $ myBarChart \"Some Data\" names xs"
   ]
  },
  {
   "cell_type": "code",
   "execution_count": 9,
   "id": "db6b4a89",
   "metadata": {},
   "outputs": [
    {
     "data": {
      "application/javascript": [
       "const spec = {\"$schema\": \"https://vega.github.io/schema/vega-lite/v5.json\", \"data\": {\"values\": [{\"a\": \"A\", \"b\": 34.0}, {\"a\": \"B\", \"b\": 30.0}, {\"a\": \"C\", \"b\": 16.0}, {\"a\": \"D\", \"b\": 48.0}, {\"a\": \"E\", \"b\": 41.0}, {\"a\": \"F\", \"b\": 20.0}, {\"a\": \"G\", \"b\": 92.0}, {\"a\": \"H\", \"b\": 76.0}, {\"a\": \"I\", \"b\": 50.0}]}, \"description\": \"Some Data\", \"encoding\": {\"x\": {\"axis\": {\"labelAngle\": 0.0}, \"field\": \"a\", \"type\": \"nominal\"}, \"y\": {\"field\": \"b\", \"type\": \"quantitative\"}}, \"mark\": \"bar\"};\n",
       "const opt = {};\n",
       "const type = \"vega-lite\";\n",
       "const id = \"3995579e-2f64-433c-93e4-bf5f35a9a0c7\";\n",
       "\n",
       "const output_area = this;\n",
       "\n",
       "require([\"nbextensions/jupyter-vega/index\"], function(vega) {\n",
       "  const target = document.createElement(\"div\");\n",
       "  target.id = id;\n",
       "  target.className = \"vega-embed\";\n",
       "\n",
       "  const style = document.createElement(\"style\");\n",
       "  style.textContent = [\n",
       "    \".vega-embed .error p {\",\n",
       "    \"  color: firebrick;\",\n",
       "    \"  font-size: 14px;\",\n",
       "    \"}\",\n",
       "  ].join(\"\\\\n\");\n",
       "\n",
       "  // element is a jQuery wrapped DOM element inside the output area\n",
       "  // see http://ipython.readthedocs.io/en/stable/api/generated/\\\n",
       "  // IPython.display.html#IPython.display.Javascript.__init__\n",
       "  element[0].appendChild(target);\n",
       "  element[0].appendChild(style);\n",
       "\n",
       "  vega.render(\"#\" + id, spec, type, opt, output_area);\n",
       "}, function (err) {\n",
       "  if (err.requireType !== \"scripterror\") {\n",
       "    throw(err);\n",
       "  }\n",
       "});\n"
      ]
     },
     "metadata": {
      "jupyter-vega": "#3995579e-2f64-433c-93e4-bf5f35a9a0c7"
     },
     "output_type": "display_data"
    },
    {
     "data": {
      "image/png": "[encoded data removed]"
     },
     "metadata": {
      "jupyter-vega": "#3995579e-2f64-433c-93e4-bf5f35a9a0c7"
     },
     "output_type": "display_data"
    }
   ],
   "source": [
    ":exec displaySomeData"
   ]
  }
 ],
 "metadata": {
  "kernelspec": {
   "display_name": "Idris 2",
   "language": "idris2",
   "name": "idris2jupyter"
  },
  "language_info": {
   "file_extension": ".idr",
   "mimetype": "text/x-idris",
   "name": "idris2"
  }
 },
 "nbformat": 4,
 "nbformat_minor": 5
}
